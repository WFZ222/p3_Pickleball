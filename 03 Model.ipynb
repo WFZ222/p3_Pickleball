{
 "cells": [
  {
   "cell_type": "code",
   "execution_count": 2,
   "id": "046df25c",
   "metadata": {},
   "outputs": [],
   "source": [
    "import matplotlib.pyplot as plt\n",
    "import numpy as np\n",
    "import pandas as pd\n",
    "import sklearn.metrics as metrics\n",
    "\n",
    "from nltk.sentiment.vader import SentimentIntensityAnalyzer\n",
    "from sklearn.linear_model import LogisticRegression\n",
    "from sklearn.metrics import confusion_matrix\n",
    "from sklearn.model_selection import train_test_split, GridSearchCV, cross_val_score\n",
    "from sklearn.pipeline import Pipeline\n",
    "from sklearn.tree import DecisionTreeClassifier\n",
    "from sklearn.feature_extraction.text import CountVectorizer"
   ]
  },
  {
   "cell_type": "markdown",
   "id": "64680ef3",
   "metadata": {},
   "source": [
    "Import data"
   ]
  },
  {
   "cell_type": "code",
   "execution_count": 3,
   "id": "af97edfd",
   "metadata": {},
   "outputs": [],
   "source": [
    "df = pd.read_csv('./data/tennis_cleaned.csv')\n",
    "df.reset_index(drop=True,inplace=True)\n",
    "df.drop(columns=['Unnamed: 0'], inplace=True)"
   ]
  },
  {
   "cell_type": "code",
   "execution_count": 4,
   "id": "cce3458a",
   "metadata": {},
   "outputs": [
    {
     "data": {
      "text/plain": [
       "subreddit      0\n",
       "title          0\n",
       "selftext       3\n",
       "created_utc    0\n",
       "dtype: int64"
      ]
     },
     "execution_count": 4,
     "metadata": {},
     "output_type": "execute_result"
    }
   ],
   "source": [
    "df.isnull().sum()"
   ]
  },
  {
   "cell_type": "code",
   "execution_count": 5,
   "id": "bc92cd57",
   "metadata": {},
   "outputs": [],
   "source": [
    "df.dropna(inplace=True)"
   ]
  },
  {
   "cell_type": "code",
   "execution_count": 6,
   "id": "1a453efd",
   "metadata": {
    "scrolled": true
   },
   "outputs": [
    {
     "data": {
      "text/html": [
       "<div>\n",
       "<style scoped>\n",
       "    .dataframe tbody tr th:only-of-type {\n",
       "        vertical-align: middle;\n",
       "    }\n",
       "\n",
       "    .dataframe tbody tr th {\n",
       "        vertical-align: top;\n",
       "    }\n",
       "\n",
       "    .dataframe thead th {\n",
       "        text-align: right;\n",
       "    }\n",
       "</style>\n",
       "<table border=\"1\" class=\"dataframe\">\n",
       "  <thead>\n",
       "    <tr style=\"text-align: right;\">\n",
       "      <th></th>\n",
       "      <th>subreddit</th>\n",
       "      <th>title</th>\n",
       "      <th>selftext</th>\n",
       "      <th>created_utc</th>\n",
       "    </tr>\n",
       "  </thead>\n",
       "  <tbody>\n",
       "    <tr>\n",
       "      <th>0</th>\n",
       "      <td>tennis</td>\n",
       "      <td>anyone down for a hit in los angeles?</td>\n",
       "      <td>hey, people! i'm a dude in his late twenty get...</td>\n",
       "      <td>1637458418</td>\n",
       "    </tr>\n",
       "    <tr>\n",
       "      <th>1</th>\n",
       "      <td>tennis</td>\n",
       "      <td>zverev on peng shuai?</td>\n",
       "      <td>any word from zverev about peng shuai? not sur...</td>\n",
       "      <td>1637457638</td>\n",
       "    </tr>\n",
       "    <tr>\n",
       "      <th>2</th>\n",
       "      <td>tennis</td>\n",
       "      <td>zverev beat djokovic to set up medvedev final ...</td>\n",
       "      <td>[none]</td>\n",
       "      <td>1637457620</td>\n",
       "    </tr>\n",
       "    <tr>\n",
       "      <th>3</th>\n",
       "      <td>tennis</td>\n",
       "      <td>peng shuai: china block cnn's signal to preven...</td>\n",
       "      <td>[none]</td>\n",
       "      <td>1637456757</td>\n",
       "    </tr>\n",
       "    <tr>\n",
       "      <th>4</th>\n",
       "      <td>tennis</td>\n",
       "      <td>peng shuai situation explained: chinese state ...</td>\n",
       "      <td>[none]</td>\n",
       "      <td>1637454383</td>\n",
       "    </tr>\n",
       "  </tbody>\n",
       "</table>\n",
       "</div>"
      ],
      "text/plain": [
       "  subreddit                                              title  \\\n",
       "0    tennis              anyone down for a hit in los angeles?   \n",
       "1    tennis                              zverev on peng shuai?   \n",
       "2    tennis  zverev beat djokovic to set up medvedev final ...   \n",
       "3    tennis  peng shuai: china block cnn's signal to preven...   \n",
       "4    tennis  peng shuai situation explained: chinese state ...   \n",
       "\n",
       "                                            selftext  created_utc  \n",
       "0  hey, people! i'm a dude in his late twenty get...   1637458418  \n",
       "1  any word from zverev about peng shuai? not sur...   1637457638  \n",
       "2                                             [none]   1637457620  \n",
       "3                                             [none]   1637456757  \n",
       "4                                             [none]   1637454383  "
      ]
     },
     "execution_count": 6,
     "metadata": {},
     "output_type": "execute_result"
    }
   ],
   "source": [
    "df.head()"
   ]
  },
  {
   "cell_type": "code",
   "execution_count": null,
   "id": "f1c1d587",
   "metadata": {},
   "outputs": [],
   "source": []
  },
  {
   "cell_type": "code",
   "execution_count": 7,
   "id": "fdc8368c",
   "metadata": {},
   "outputs": [],
   "source": [
    "# create sentiment scores\n",
    "sia = SentimentIntensityAnalyzer()\n",
    "df['sentiment'] = [sia.polarity_scores(x)['compound'] for x in df['title']]\n",
    "df['sentiment'] = (df['sentiment'] > 0).astype(int)"
   ]
  },
  {
   "cell_type": "code",
   "execution_count": 8,
   "id": "d229a411",
   "metadata": {},
   "outputs": [
    {
     "data": {
      "text/plain": [
       "0    0.61222\n",
       "1    0.38778\n",
       "Name: sentiment, dtype: float64"
      ]
     },
     "execution_count": 8,
     "metadata": {},
     "output_type": "execute_result"
    }
   ],
   "source": [
    "X = df['title']\n",
    "y = df['sentiment']\n",
    "\n",
    "# Check the distribution of our variable.\n",
    "y.value_counts(normalize=True)"
   ]
  },
  {
   "cell_type": "code",
   "execution_count": 9,
   "id": "d19c55c4",
   "metadata": {},
   "outputs": [],
   "source": [
    "X_train, X_test, y_train, y_test = train_test_split(X, y, random_state=42)"
   ]
  },
  {
   "cell_type": "code",
   "execution_count": 10,
   "id": "ca638e65",
   "metadata": {},
   "outputs": [],
   "source": [
    "# CountVectorizer"
   ]
  },
  {
   "cell_type": "code",
   "execution_count": 11,
   "id": "2be91529",
   "metadata": {},
   "outputs": [],
   "source": [
    "cvec = CountVectorizer(stop_words='english')\n",
    "cvec.fit(X_train)\n",
    "X_train_cvec = cvec.transform(X_train)\n",
    "X_test_cvec = cvec.transform(X_test)"
   ]
  },
  {
   "cell_type": "code",
   "execution_count": null,
   "id": "36a578ff",
   "metadata": {},
   "outputs": [],
   "source": []
  },
  {
   "cell_type": "code",
   "execution_count": 12,
   "id": "2efe4de9",
   "metadata": {},
   "outputs": [],
   "source": [
    "#logreg"
   ]
  },
  {
   "cell_type": "code",
   "execution_count": 13,
   "id": "e3a92907",
   "metadata": {},
   "outputs": [
    {
     "data": {
      "text/plain": [
       "(array([0, 0, 0, ..., 1, 0, 1]), 0.8558631921824105, 0.8470930918529881)"
      ]
     },
     "execution_count": 13,
     "metadata": {},
     "output_type": "execute_result"
    }
   ],
   "source": [
    "#Instantiate  model.\n",
    "logreg = LogisticRegression()\n",
    "logreg.fit(X_train_cvec, y_train)\n",
    "\n",
    "logreg.predict(X_train_cvec), logreg.score(X_test_cvec, y_test), cross_val_score(logreg, X_train_cvec, y_train).mean()"
   ]
  },
  {
   "cell_type": "code",
   "execution_count": 14,
   "id": "6a18205d",
   "metadata": {
    "scrolled": false
   },
   "outputs": [
    {
     "data": {
      "text/plain": [
       "array([[ 0.40679811, -0.5957427 ,  0.18508378, ..., -0.11949393,\n",
       "        -0.11949393, -0.11949393]])"
      ]
     },
     "execution_count": 14,
     "metadata": {},
     "output_type": "execute_result"
    }
   ],
   "source": [
    "logreg.coef_"
   ]
  },
  {
   "cell_type": "code",
   "execution_count": 15,
   "id": "7ec10c21",
   "metadata": {},
   "outputs": [
    {
     "data": {
      "text/plain": [
       "(0.8558631921824105, 0.8929503916449086, 0.7154811715481172)"
      ]
     },
     "execution_count": 15,
     "metadata": {},
     "output_type": "execute_result"
    }
   ],
   "source": [
    "preds_log = logreg.predict(X_test_cvec)\n",
    "precision = metrics.precision_score(y_test, preds_log)\n",
    "recall = metrics.recall_score(y_test, preds_log)\n",
    "accuracy = metrics.accuracy_score(y_test, preds_log)\n",
    "accuracy, precision, recall"
   ]
  },
  {
   "cell_type": "code",
   "execution_count": 16,
   "id": "1d3da530",
   "metadata": {},
   "outputs": [
    {
     "data": {
      "text/plain": [
       "array([[709,  41],\n",
       "       [136, 342]], dtype=int64)"
      ]
     },
     "execution_count": 16,
     "metadata": {},
     "output_type": "execute_result"
    }
   ],
   "source": [
    "metrics.confusion_matrix(y_test, preds_log)"
   ]
  },
  {
   "cell_type": "code",
   "execution_count": 17,
   "id": "6df96e9f",
   "metadata": {},
   "outputs": [
    {
     "data": {
      "image/png": "[encoded data removed]",
      "text/plain": [
       "<Figure size 432x288 with 2 Axes>"
      ]
     },
     "metadata": {
      "needs_background": "light"
     },
     "output_type": "display_data"
    }
   ],
   "source": [
    "metrics.confusion_matrix(y_test, preds_log)\n",
    "metrics.plot_confusion_matrix(logreg, X_test_cvec, y_test, cmap='Reds', \n",
    "                      values_format='d', display_labels=['Non Possitive Comment', 'Positive Comment'])\n",
    "plt.title('Logistic Regression', fontsize=16)\n",
    "plt.savefig('./images/LogReg.png', bbox_inches='tight');"
   ]
  },
  {
   "cell_type": "code",
   "execution_count": null,
   "id": "d032d62a",
   "metadata": {},
   "outputs": [],
   "source": []
  },
  {
   "cell_type": "code",
   "execution_count": 18,
   "id": "06f9d063",
   "metadata": {},
   "outputs": [],
   "source": [
    "# pipeline"
   ]
  },
  {
   "cell_type": "code",
   "execution_count": 19,
   "id": "7f5308d6",
   "metadata": {},
   "outputs": [],
   "source": [
    "pipe = Pipeline([\n",
    "    ('cvec', CountVectorizer()),\n",
    "    ('model', LogisticRegression())\n",
    "])"
   ]
  },
  {
   "cell_type": "code",
   "execution_count": 20,
   "id": "48deb976",
   "metadata": {},
   "outputs": [
    {
     "data": {
      "text/plain": [
       "(0.9679521998913634, 0.8509771986970684)"
      ]
     },
     "execution_count": 20,
     "metadata": {},
     "output_type": "execute_result"
    }
   ],
   "source": [
    "pipe.fit(X_train, y_train)\n",
    "pipe.score(X_train, y_train), pipe.score(X_test, y_test)"
   ]
  },
  {
   "cell_type": "code",
   "execution_count": 21,
   "id": "7380763f",
   "metadata": {},
   "outputs": [
    {
     "data": {
      "text/plain": [
       "(0.8509771986970684, 0.8696741854636592, 0.7259414225941423)"
      ]
     },
     "execution_count": 21,
     "metadata": {},
     "output_type": "execute_result"
    }
   ],
   "source": [
    "preds_pipe = pipe.predict(X_test)\n",
    "precision = metrics.precision_score(y_test, preds_pipe)\n",
    "recall = metrics.recall_score(y_test, preds_pipe)\n",
    "accuracy = metrics.accuracy_score(y_test, preds_pipe)\n",
    "accuracy, precision, recall"
   ]
  },
  {
   "cell_type": "code",
   "execution_count": 22,
   "id": "d046cf3a",
   "metadata": {},
   "outputs": [
    {
     "data": {
      "text/plain": [
       "array([[698,  52],\n",
       "       [131, 347]], dtype=int64)"
      ]
     },
     "execution_count": 22,
     "metadata": {},
     "output_type": "execute_result"
    }
   ],
   "source": [
    "metrics.confusion_matrix(y_test, preds_pipe)"
   ]
  },
  {
   "cell_type": "code",
   "execution_count": 23,
   "id": "a1135dbe",
   "metadata": {
    "scrolled": false
   },
   "outputs": [
    {
     "data": {
      "image/png": "[encoded data removed]",
      "text/plain": [
       "<Figure size 432x288 with 2 Axes>"
      ]
     },
     "metadata": {
      "needs_background": "light"
     },
     "output_type": "display_data"
    }
   ],
   "source": [
    "metrics.plot_confusion_matrix(pipe, X_test, y_test, cmap='Greens', \n",
    "                      values_format='d', display_labels=['Non Possitive Comment', 'Positive Comment'])\n",
    "plt.title('Pipeline', fontsize=16)\n",
    "plt.savefig('./images/pipe.png', bbox_inches='tight');"
   ]
  },
  {
   "cell_type": "code",
   "execution_count": null,
   "id": "e13370eb",
   "metadata": {},
   "outputs": [],
   "source": []
  },
  {
   "cell_type": "code",
   "execution_count": 24,
   "id": "441bef57",
   "metadata": {},
   "outputs": [
    {
     "data": {
      "text/plain": [
       "(0.9994568169473113, 0.8607491856677525)"
      ]
     },
     "execution_count": 24,
     "metadata": {},
     "output_type": "execute_result"
    }
   ],
   "source": [
    "# Instantiate model.\n",
    "dt = DecisionTreeClassifier(random_state=42)\n",
    "dt.fit(X_train_cvec, y_train)\n",
    "dt.score(X_train_cvec, y_train), dt.score(X_test_cvec, y_test)"
   ]
  },
  {
   "cell_type": "code",
   "execution_count": 25,
   "id": "b6580a7b",
   "metadata": {},
   "outputs": [],
   "source": [
    "grid = {\n",
    "'max_depth': [2, 3, 5, 7],\n",
    "'min_samples_split': [5, 10, 15, 20],\n",
    "'min_samples_leaf': [2, 3, 4, 5, 6],\n",
    "'ccp_alpha': [0, 0.001, 0.01, 0.1, 1, 10]\n",
    "}"
   ]
  },
  {
   "cell_type": "code",
   "execution_count": 26,
   "id": "731ed353",
   "metadata": {},
   "outputs": [],
   "source": [
    "gs = GridSearchCV(DecisionTreeClassifier(random_state=42), param_grid=grid)"
   ]
  },
  {
   "cell_type": "code",
   "execution_count": 27,
   "id": "7b842a3e",
   "metadata": {},
   "outputs": [
    {
     "data": {
      "text/plain": [
       "{'ccp_alpha': 0, 'max_depth': 7, 'min_samples_leaf': 5, 'min_samples_split': 5}"
      ]
     },
     "execution_count": 27,
     "metadata": {},
     "output_type": "execute_result"
    }
   ],
   "source": [
    "gs.fit(X_train_cvec, y_train)\n",
    "gs.best_params_"
   ]
  },
  {
   "cell_type": "code",
   "execution_count": 28,
   "id": "65dee357",
   "metadata": {},
   "outputs": [
    {
     "data": {
      "text/plain": [
       "0.7555723113680608"
      ]
     },
     "execution_count": 28,
     "metadata": {},
     "output_type": "execute_result"
    }
   ],
   "source": [
    "gs.best_score_"
   ]
  },
  {
   "cell_type": "code",
   "execution_count": 29,
   "id": "3a954692",
   "metadata": {},
   "outputs": [
    {
     "data": {
      "text/plain": [
       "(0.7599130907115698, 0.746742671009772)"
      ]
     },
     "execution_count": 29,
     "metadata": {},
     "output_type": "execute_result"
    }
   ],
   "source": [
    "gs.score(X_train_cvec, y_train), gs.score(X_test_cvec, y_test)"
   ]
  },
  {
   "cell_type": "code",
   "execution_count": 30,
   "id": "4c192ea4",
   "metadata": {},
   "outputs": [
    {
     "data": {
      "text/plain": [
       "(0.746742671009772, 0.9033816425120773, 0.3912133891213389)"
      ]
     },
     "execution_count": 30,
     "metadata": {},
     "output_type": "execute_result"
    }
   ],
   "source": [
    "preds_gs = gs.predict(X_test_cvec)\n",
    "precision = metrics.precision_score(y_test, preds_gs)\n",
    "recall = metrics.recall_score(y_test, preds_gs)\n",
    "accuracy = metrics.accuracy_score(y_test, preds_gs)\n",
    "accuracy, precision, recall"
   ]
  },
  {
   "cell_type": "code",
   "execution_count": 31,
   "id": "e01f5a03",
   "metadata": {},
   "outputs": [
    {
     "data": {
      "text/plain": [
       "array([[730,  20],\n",
       "       [291, 187]], dtype=int64)"
      ]
     },
     "execution_count": 31,
     "metadata": {},
     "output_type": "execute_result"
    }
   ],
   "source": [
    "metrics.confusion_matrix(y_test, preds_gs)"
   ]
  },
  {
   "cell_type": "code",
   "execution_count": 32,
   "id": "8ba985d5",
   "metadata": {},
   "outputs": [
    {
     "data": {
      "image/png": "[encoded data removed]",
      "text/plain": [
       "<Figure size 432x288 with 2 Axes>"
      ]
     },
     "metadata": {
      "needs_background": "light"
     },
     "output_type": "display_data"
    }
   ],
   "source": [
    "metrics.plot_confusion_matrix(gs, X_test_cvec, y_test, cmap='YlOrBr', \n",
    "                      values_format='d', display_labels=['Negative Comment', 'Positive Comment'])\n",
    "plt.title('Decision Tree', fontsize=16)\n",
    "plt.savefig('./images/tree.png', bbox_inches='tight');"
   ]
  },
  {
   "cell_type": "code",
   "execution_count": null,
   "id": "a144cd82",
   "metadata": {},
   "outputs": [],
   "source": []
  },
  {
   "cell_type": "markdown",
   "id": "3f7ba588",
   "metadata": {},
   "source": [
    "**Compare Recall/Sensitivity score**"
   ]
  },
  {
   "cell_type": "code",
   "execution_count": 33,
   "id": "29a3ef68",
   "metadata": {},
   "outputs": [
    {
     "data": {
      "text/plain": [
       "(0.7154811715481172, 0.7259414225941423, 0.3912133891213389)"
      ]
     },
     "execution_count": 33,
     "metadata": {},
     "output_type": "execute_result"
    }
   ],
   "source": [
    "# Recall/Sensitivity, percentage witin those actual positive, how many were predicted positive \n",
    "metrics.recall_score(y_test, preds_log), metrics.recall_score(y_test, preds_pipe), metrics.recall_score(y_test, preds_gs)"
   ]
  },
  {
   "cell_type": "markdown",
   "id": "681374f5",
   "metadata": {},
   "source": [
    "**Compare Precision score**"
   ]
  },
  {
   "cell_type": "code",
   "execution_count": 34,
   "id": "aeff4860",
   "metadata": {},
   "outputs": [
    {
     "data": {
      "text/plain": [
       "(0.8929503916449086, 0.8696741854636592, 0.9033816425120773)"
      ]
     },
     "execution_count": 34,
     "metadata": {},
     "output_type": "execute_result"
    }
   ],
   "source": [
    "# Precision, percentage within those predicted possitive, how many were correct.\n",
    "metrics.precision_score(y_test, preds_log), metrics.precision_score(y_test, preds_pipe), metrics.precision_score(y_test, preds_gs)"
   ]
  },
  {
   "cell_type": "markdown",
   "id": "c92056ef",
   "metadata": {},
   "source": [
    "**Compare Accuracy score**"
   ]
  },
  {
   "cell_type": "code",
   "execution_count": 35,
   "id": "481c9c7b",
   "metadata": {},
   "outputs": [
    {
     "data": {
      "text/plain": [
       "(0.8558631921824105, 0.8509771986970684, 0.746742671009772)"
      ]
     },
     "execution_count": 35,
     "metadata": {},
     "output_type": "execute_result"
    }
   ],
   "source": [
    "# Accuracy, percentae of obervation mode predicted corretly.\n",
    "metrics.accuracy_score(y_test, preds_log), metrics.accuracy_score(y_test, preds_pipe), metrics.accuracy_score(y_test, preds_gs)"
   ]
  },
  {
   "cell_type": "markdown",
   "id": "9e65eae6",
   "metadata": {},
   "source": [
    "**Compare f1 score**"
   ]
  },
  {
   "cell_type": "code",
   "execution_count": 36,
   "id": "d8cb1d9e",
   "metadata": {},
   "outputs": [
    {
     "data": {
      "text/plain": [
       "(0.794425087108014, 0.7913340935005702, 0.545985401459854)"
      ]
     },
     "execution_count": 36,
     "metadata": {},
     "output_type": "execute_result"
    }
   ],
   "source": [
    "metrics.f1_score(y_test, preds_log), metrics.f1_score(y_test, preds_pipe), metrics.f1_score(y_test, preds_gs)"
   ]
  },
  {
   "cell_type": "code",
   "execution_count": null,
   "id": "fcff3802",
   "metadata": {},
   "outputs": [],
   "source": []
  },
  {
   "cell_type": "markdown",
   "id": "6f45b4cf",
   "metadata": {},
   "source": [
    "**ROC AUC score**"
   ]
  },
  {
   "cell_type": "code",
   "execution_count": 37,
   "id": "ef544f10",
   "metadata": {},
   "outputs": [
    {
     "data": {
      "text/plain": [
       "(0.8558631921824105, 0.9180529986052998)"
      ]
     },
     "execution_count": 37,
     "metadata": {},
     "output_type": "execute_result"
    }
   ],
   "source": [
    "# ROC AUC is .92, closest to 1\n",
    "logreg.score(X_test_cvec, y_test), metrics.roc_auc_score(y_test, logreg.predict_proba(X_test_cvec)[:, 1])"
   ]
  },
  {
   "cell_type": "code",
   "execution_count": 38,
   "id": "14859583",
   "metadata": {},
   "outputs": [
    {
     "data": {
      "text/plain": [
       "(0.8509771986970684, 0.9097461645746165)"
      ]
     },
     "execution_count": 38,
     "metadata": {},
     "output_type": "execute_result"
    }
   ],
   "source": [
    "pipe.score(X_test, y_test), metrics.roc_auc_score(y_test, pipe.predict_proba(X_test)[:, 1])"
   ]
  },
  {
   "cell_type": "code",
   "execution_count": 39,
   "id": "bf7c7a90",
   "metadata": {},
   "outputs": [
    {
     "data": {
      "text/plain": [
       "(0.746742671009772, 0.6834895397489541)"
      ]
     },
     "execution_count": 39,
     "metadata": {},
     "output_type": "execute_result"
    }
   ],
   "source": [
    "gs.score(X_test_cvec, y_test), metrics.roc_auc_score(y_test, gs.predict_proba(X_test_cvec)[:, 1])"
   ]
  },
  {
   "cell_type": "code",
   "execution_count": null,
   "id": "042828d5",
   "metadata": {},
   "outputs": [],
   "source": []
  },
  {
   "cell_type": "code",
   "execution_count": 40,
   "id": "41e6796a",
   "metadata": {},
   "outputs": [],
   "source": [
    "fpreds = logreg.predict(cvec.transform(X))\n",
    "df['predictions'] = fpreds"
   ]
  },
  {
   "cell_type": "code",
   "execution_count": null,
   "id": "532a27c8",
   "metadata": {},
   "outputs": [],
   "source": []
  },
  {
   "cell_type": "markdown",
   "id": "0e2ffa67",
   "metadata": {},
   "source": [
    "**Prediction**"
   ]
  },
  {
   "cell_type": "code",
   "execution_count": 41,
   "id": "25fa38f9",
   "metadata": {},
   "outputs": [],
   "source": [
    "df_p = pd.read_csv('./data/pickleball_cleaned.csv')\n",
    "df_p.reset_index(drop=True,inplace=True)\n",
    "df_p.drop(columns=['Unnamed: 0'], inplace=True)"
   ]
  },
  {
   "cell_type": "code",
   "execution_count": 42,
   "id": "4e866bdc",
   "metadata": {},
   "outputs": [],
   "source": [
    "Z = df_p['title']"
   ]
  },
  {
   "cell_type": "code",
   "execution_count": 43,
   "id": "be82bbec",
   "metadata": {},
   "outputs": [],
   "source": [
    "Zpreds = logreg.predict(cvec.transform(Z))"
   ]
  },
  {
   "cell_type": "code",
   "execution_count": 44,
   "id": "48843fbb",
   "metadata": {},
   "outputs": [],
   "source": [
    "df_p['predictions'] = Zpreds"
   ]
  },
  {
   "cell_type": "code",
   "execution_count": 45,
   "id": "7492a86b",
   "metadata": {},
   "outputs": [],
   "source": [
    "df_p.to_csv('./data/pickleball_prediction.csv')"
   ]
  },
  {
   "cell_type": "code",
   "execution_count": 46,
   "id": "d799502e",
   "metadata": {},
   "outputs": [
    {
     "data": {
      "text/html": [
       "<div>\n",
       "<style scoped>\n",
       "    .dataframe tbody tr th:only-of-type {\n",
       "        vertical-align: middle;\n",
       "    }\n",
       "\n",
       "    .dataframe tbody tr th {\n",
       "        vertical-align: top;\n",
       "    }\n",
       "\n",
       "    .dataframe thead th {\n",
       "        text-align: right;\n",
       "    }\n",
       "</style>\n",
       "<table border=\"1\" class=\"dataframe\">\n",
       "  <thead>\n",
       "    <tr style=\"text-align: right;\">\n",
       "      <th></th>\n",
       "      <th>subreddit</th>\n",
       "      <th>title</th>\n",
       "      <th>selftext</th>\n",
       "      <th>created_utc</th>\n",
       "      <th>predictions</th>\n",
       "    </tr>\n",
       "  </thead>\n",
       "  <tbody>\n",
       "    <tr>\n",
       "      <th>0</th>\n",
       "      <td>pickleball</td>\n",
       "      <td>crazy rule question</td>\n",
       "      <td>[removed]</td>\n",
       "      <td>1637457988</td>\n",
       "      <td>0</td>\n",
       "    </tr>\n",
       "    <tr>\n",
       "      <th>1</th>\n",
       "      <td>pickleball</td>\n",
       "      <td>43 court-tested pickleball tip to win point (a...</td>\n",
       "      <td>[none]</td>\n",
       "      <td>1637445886</td>\n",
       "      <td>1</td>\n",
       "    </tr>\n",
       "    <tr>\n",
       "      <th>2</th>\n",
       "      <td>pickleball</td>\n",
       "      <td>phoenix pickleball scene</td>\n",
       "      <td>[removed]</td>\n",
       "      <td>1637437159</td>\n",
       "      <td>0</td>\n",
       "    </tr>\n",
       "    <tr>\n",
       "      <th>3</th>\n",
       "      <td>pickleball</td>\n",
       "      <td>phoenix pickleball</td>\n",
       "      <td>[removed]</td>\n",
       "      <td>1637418798</td>\n",
       "      <td>0</td>\n",
       "    </tr>\n",
       "    <tr>\n",
       "      <th>4</th>\n",
       "      <td>pickleball</td>\n",
       "      <td>what's one thing you find most lacking in the ...</td>\n",
       "      <td>could be something like high quality reviews, ...</td>\n",
       "      <td>1637354289</td>\n",
       "      <td>0</td>\n",
       "    </tr>\n",
       "    <tr>\n",
       "      <th>5</th>\n",
       "      <td>pickleball</td>\n",
       "      <td>faster movement</td>\n",
       "      <td>i’ve been playing pickleball for a little over...</td>\n",
       "      <td>1637349733</td>\n",
       "      <td>0</td>\n",
       "    </tr>\n",
       "    <tr>\n",
       "      <th>6</th>\n",
       "      <td>pickleball</td>\n",
       "      <td>backyard court questions?</td>\n",
       "      <td>we’re preparing plan for a backyard renovation...</td>\n",
       "      <td>1637281077</td>\n",
       "      <td>0</td>\n",
       "    </tr>\n",
       "    <tr>\n",
       "      <th>7</th>\n",
       "      <td>pickleball</td>\n",
       "      <td>pickleball - the fastest growing sport in america</td>\n",
       "      <td>[none]</td>\n",
       "      <td>1637250247</td>\n",
       "      <td>0</td>\n",
       "    </tr>\n",
       "    <tr>\n",
       "      <th>8</th>\n",
       "      <td>pickleball</td>\n",
       "      <td>what shoe to use?</td>\n",
       "      <td>[removed]</td>\n",
       "      <td>1637243112</td>\n",
       "      <td>0</td>\n",
       "    </tr>\n",
       "    <tr>\n",
       "      <th>9</th>\n",
       "      <td>pickleball</td>\n",
       "      <td>created a round robin app (ios)</td>\n",
       "      <td>hi, i have just released my round robin app on...</td>\n",
       "      <td>1637223681</td>\n",
       "      <td>0</td>\n",
       "    </tr>\n",
       "    <tr>\n",
       "      <th>10</th>\n",
       "      <td>pickleball</td>\n",
       "      <td>the ultimate pickleball paddle spin comparison</td>\n",
       "      <td>[none]</td>\n",
       "      <td>1637210817</td>\n",
       "      <td>0</td>\n",
       "    </tr>\n",
       "    <tr>\n",
       "      <th>11</th>\n",
       "      <td>pickleball</td>\n",
       "      <td>tennis elbow - need to know</td>\n",
       "      <td>i’m an active 36/m who’s been playing pickleba...</td>\n",
       "      <td>1637188197</td>\n",
       "      <td>0</td>\n",
       "    </tr>\n",
       "    <tr>\n",
       "      <th>12</th>\n",
       "      <td>pickleball</td>\n",
       "      <td>tennis elbow - need to knows?</td>\n",
       "      <td>i’m an active 36/m who’s been playing pickleba...</td>\n",
       "      <td>1637188086</td>\n",
       "      <td>0</td>\n",
       "    </tr>\n",
       "    <tr>\n",
       "      <th>13</th>\n",
       "      <td>pickleball</td>\n",
       "      <td>how pickleball won over everyone from leonardo...</td>\n",
       "      <td>[none]</td>\n",
       "      <td>1637184350</td>\n",
       "      <td>1</td>\n",
       "    </tr>\n",
       "    <tr>\n",
       "      <th>14</th>\n",
       "      <td>pickleball</td>\n",
       "      <td>dekel bar drop some wisdom</td>\n",
       "      <td>[none]</td>\n",
       "      <td>1637183470</td>\n",
       "      <td>0</td>\n",
       "    </tr>\n",
       "    <tr>\n",
       "      <th>15</th>\n",
       "      <td>pickleball</td>\n",
       "      <td>i am somewhat new, been playing about two mont...</td>\n",
       "      <td>[none]</td>\n",
       "      <td>1637173219</td>\n",
       "      <td>1</td>\n",
       "    </tr>\n",
       "    <tr>\n",
       "      <th>16</th>\n",
       "      <td>pickleball</td>\n",
       "      <td>make pickleball great again 😂</td>\n",
       "      <td>[none]</td>\n",
       "      <td>1637121428</td>\n",
       "      <td>1</td>\n",
       "    </tr>\n",
       "    <tr>\n",
       "      <th>17</th>\n",
       "      <td>pickleball</td>\n",
       "      <td>ambidextrous?</td>\n",
       "      <td>[removed]</td>\n",
       "      <td>1637108949</td>\n",
       "      <td>0</td>\n",
       "    </tr>\n",
       "    <tr>\n",
       "      <th>18</th>\n",
       "      <td>pickleball</td>\n",
       "      <td>first tournament success tips?</td>\n",
       "      <td>[removed]</td>\n",
       "      <td>1637099087</td>\n",
       "      <td>0</td>\n",
       "    </tr>\n",
       "    <tr>\n",
       "      <th>19</th>\n",
       "      <td>pickleball</td>\n",
       "      <td>finding love on the pickleball court (2 photos)</td>\n",
       "      <td>[none]</td>\n",
       "      <td>1637098457</td>\n",
       "      <td>1</td>\n",
       "    </tr>\n",
       "  </tbody>\n",
       "</table>\n",
       "</div>"
      ],
      "text/plain": [
       "     subreddit                                              title  \\\n",
       "0   pickleball                                crazy rule question   \n",
       "1   pickleball  43 court-tested pickleball tip to win point (a...   \n",
       "2   pickleball                           phoenix pickleball scene   \n",
       "3   pickleball                                 phoenix pickleball   \n",
       "4   pickleball  what's one thing you find most lacking in the ...   \n",
       "5   pickleball                                    faster movement   \n",
       "6   pickleball                          backyard court questions?   \n",
       "7   pickleball  pickleball - the fastest growing sport in america   \n",
       "8   pickleball                                  what shoe to use?   \n",
       "9   pickleball                    created a round robin app (ios)   \n",
       "10  pickleball     the ultimate pickleball paddle spin comparison   \n",
       "11  pickleball                        tennis elbow - need to know   \n",
       "12  pickleball                      tennis elbow - need to knows?   \n",
       "13  pickleball  how pickleball won over everyone from leonardo...   \n",
       "14  pickleball                         dekel bar drop some wisdom   \n",
       "15  pickleball  i am somewhat new, been playing about two mont...   \n",
       "16  pickleball                      make pickleball great again 😂   \n",
       "17  pickleball                                      ambidextrous?   \n",
       "18  pickleball                     first tournament success tips?   \n",
       "19  pickleball    finding love on the pickleball court (2 photos)   \n",
       "\n",
       "                                             selftext  created_utc  \\\n",
       "0                                           [removed]   1637457988   \n",
       "1                                              [none]   1637445886   \n",
       "2                                           [removed]   1637437159   \n",
       "3                                           [removed]   1637418798   \n",
       "4   could be something like high quality reviews, ...   1637354289   \n",
       "5   i’ve been playing pickleball for a little over...   1637349733   \n",
       "6   we’re preparing plan for a backyard renovation...   1637281077   \n",
       "7                                              [none]   1637250247   \n",
       "8                                           [removed]   1637243112   \n",
       "9   hi, i have just released my round robin app on...   1637223681   \n",
       "10                                             [none]   1637210817   \n",
       "11  i’m an active 36/m who’s been playing pickleba...   1637188197   \n",
       "12  i’m an active 36/m who’s been playing pickleba...   1637188086   \n",
       "13                                             [none]   1637184350   \n",
       "14                                             [none]   1637183470   \n",
       "15                                             [none]   1637173219   \n",
       "16                                             [none]   1637121428   \n",
       "17                                          [removed]   1637108949   \n",
       "18                                          [removed]   1637099087   \n",
       "19                                             [none]   1637098457   \n",
       "\n",
       "    predictions  \n",
       "0             0  \n",
       "1             1  \n",
       "2             0  \n",
       "3             0  \n",
       "4             0  \n",
       "5             0  \n",
       "6             0  \n",
       "7             0  \n",
       "8             0  \n",
       "9             0  \n",
       "10            0  \n",
       "11            0  \n",
       "12            0  \n",
       "13            1  \n",
       "14            0  \n",
       "15            1  \n",
       "16            1  \n",
       "17            0  \n",
       "18            0  \n",
       "19            1  "
      ]
     },
     "execution_count": 46,
     "metadata": {},
     "output_type": "execute_result"
    }
   ],
   "source": [
    "df_p.head(20)"
   ]
  },
  {
   "cell_type": "code",
   "execution_count": 46,
   "id": "445f0c20",
   "metadata": {
    "scrolled": true
   },
   "outputs": [
    {
     "data": {
      "text/plain": [
       "0    0.61222\n",
       "1    0.38778\n",
       "Name: sentiment, dtype: float64"
      ]
     },
     "execution_count": 46,
     "metadata": {},
     "output_type": "execute_result"
    }
   ],
   "source": [
    "df['sentiment'].value_counts(normalize=True)"
   ]
  },
  {
   "cell_type": "code",
   "execution_count": 47,
   "id": "5a85b0d4",
   "metadata": {},
   "outputs": [
    {
     "data": {
      "image/png": "[encoded data removed]",
      "text/plain": [
       "<Figure size 720x720 with 1 Axes>"
      ]
     },
     "metadata": {},
     "output_type": "display_data"
    }
   ],
   "source": [
    "df['chart'] = df['sentiment'].map({0: 'non positive', 1: 'positive'})\n",
    "plt.figure(figsize=(10, 10))\n",
    "plt.title('Tennis Comments', fontsize=16)\n",
    "df['chart'].value_counts(normalize=True).plot(kind='pie');\n",
    "plt.savefig('./images/tennis_pie.png', bbox_inches='tight');"
   ]
  },
  {
   "cell_type": "code",
   "execution_count": 48,
   "id": "daf46b70",
   "metadata": {},
   "outputs": [
    {
     "data": {
      "text/plain": [
       "0    0.74578\n",
       "1    0.25422\n",
       "Name: predictions, dtype: float64"
      ]
     },
     "execution_count": 48,
     "metadata": {},
     "output_type": "execute_result"
    }
   ],
   "source": [
    "df_p['predictions'].value_counts(normalize=True) # 10% less possitive comments"
   ]
  },
  {
   "cell_type": "code",
   "execution_count": 49,
   "id": "95d7c8e3",
   "metadata": {},
   "outputs": [
    {
     "data": {
      "image/png": "[encoded data removed]",
      "text/plain": [
       "<Figure size 720x720 with 1 Axes>"
      ]
     },
     "metadata": {},
     "output_type": "display_data"
    }
   ],
   "source": [
    "df_p['chart'] = df_p['predictions'].map({0: 'non positive', 1: 'positive'})\n",
    "plt.figure(figsize=(10, 10))\n",
    "plt.title('Pickleball Comments', fontsize=16)\n",
    "df_p['chart'].value_counts(normalize=True).plot(kind='pie');\n",
    "plt.savefig('./images/pickleball_pie.png', bbox_inches='tight');"
   ]
  },
  {
   "cell_type": "code",
   "execution_count": null,
   "id": "0d742198",
   "metadata": {},
   "outputs": [],
   "source": []
  }
 ],
 "metadata": {
  "kernelspec": {
   "display_name": "Python 3",
   "language": "python",
   "name": "python3"
  },
  "language_info": {
   "codemirror_mode": {
    "name": "ipython",
    "version": 3
   },
   "file_extension": ".py",
   "mimetype": "text/x-python",
   "name": "python",
   "nbconvert_exporter": "python",
   "pygments_lexer": "ipython3",
   "version": "3.8.8"
  }
 },
 "nbformat": 4,
 "nbformat_minor": 5
}
