{
 "cells": [
  {
   "cell_type": "code",
   "execution_count": 1,
   "id": "1bb88558",
   "metadata": {},
   "outputs": [],
   "source": [
    "import pandas as pd\n",
    "import numpy as np\n",
    "import requests\n",
    "import time\n",
    "\n",
    "url = 'https://api.pushshift.io/reddit/search/submission'"
   ]
  },
  {
   "cell_type": "code",
   "execution_count": 2,
   "id": "953ff964",
   "metadata": {},
   "outputs": [],
   "source": [
    "# getting tennis and pickleball subreddit\n",
    "subreddits = ['tennis'] #, 'pickleball'\n",
    "dfs = []\n",
    "# last_time = 0\n",
    "for subreddit in subreddits:\n",
    "    for i in range(50):\n",
    "        # build your params to get the posts\n",
    "        params = {\n",
    "            'subreddit': subreddit,\n",
    "            'size': 100\n",
    "        }\n",
    "        # set before if i is not 0\n",
    "        if i != 0:\n",
    "            params['before'] = last_time\n",
    "        \n",
    "        # get the response using requests\n",
    "        res = requests.get(url, params=params)        \n",
    "        # turn the response into JSON\n",
    "        data = res.json()        \n",
    "        # turn the JSON into a posts dataframe\n",
    "        posts = pd.DataFrame(data['data'])        \n",
    "        # narrow the df to just be the columns you care about\n",
    "        posts[['title', 'selftext', 'subreddit', 'created_utc']]\n",
    "            \n",
    "        # set \"before\" if i is not 0\n",
    "        last_time = posts['created_utc'].values[-1]\n",
    "        \n",
    "        dfs.append(posts)\n",
    "        time.sleep(10) # slow down three seconds in between each loop\n",
    "        \n",
    "df_tennis = pd.concat(dfs)"
   ]
  },
  {
   "cell_type": "code",
   "execution_count": 3,
   "id": "c8ffd369",
   "metadata": {},
   "outputs": [],
   "source": [
    "# getting pickleball subreddit\n",
    "subreddits = ['pickleball']\n",
    "dfs = []\n",
    "# last_time = 0\n",
    "for subreddit in subreddits:\n",
    "    for i in range(20):\n",
    "        # build your params to get the posts\n",
    "        params = {\n",
    "            'subreddit': subreddit,\n",
    "            'size': 100\n",
    "        }\n",
    "        # set before if i is not 0\n",
    "        if i != 0:\n",
    "            params['before'] = last_time\n",
    "        \n",
    "        # get the response using requests\n",
    "        res = requests.get(url, params=params)        \n",
    "        # turn the response into JSON\n",
    "        data = res.json()        \n",
    "        # turn the JSON into a posts dataframe\n",
    "        posts = pd.DataFrame(data['data'])        \n",
    "        # narrow the df to just be the columns you care about\n",
    "        posts[['title', 'selftext', 'subreddit', 'created_utc']]\n",
    "            \n",
    "        # set \"before\" if i is not 0\n",
    "        last_time = posts['created_utc'].values[-1]\n",
    "        \n",
    "        dfs.append(posts)\n",
    "        time.sleep(10) # slow down three seconds in between each loop\n",
    "        \n",
    "df_pickleball = pd.concat(dfs)"
   ]
  },
  {
   "cell_type": "code",
   "execution_count": 6,
   "id": "553d248d",
   "metadata": {},
   "outputs": [],
   "source": [
    "df_tennis = df_tennis[['subreddit', 'title', 'selftext', 'created_utc']]\n",
    "df_pickleball = df_pickleball[['subreddit', 'title', 'selftext', 'created_utc']]"
   ]
  },
  {
   "cell_type": "code",
   "execution_count": 8,
   "id": "dc45c00b",
   "metadata": {},
   "outputs": [],
   "source": [
    "# Save to file\n",
    "df_tennis.to_csv('./data/tennis.csv')\n",
    "df_pickleball.to_csv('./data/pickleball.csv')"
   ]
  },
  {
   "cell_type": "code",
   "execution_count": null,
   "id": "3a07c878",
   "metadata": {},
   "outputs": [],
   "source": [
    "# df[df['subreddit'] == 'tennis'].shape, df[df['subreddit'] == 'Pickleball'].shape"
   ]
  },
  {
   "cell_type": "code",
   "execution_count": null,
   "id": "9456c397",
   "metadata": {},
   "outputs": [],
   "source": []
  }
 ],
 "metadata": {
  "kernelspec": {
   "display_name": "Python 3",
   "language": "python",
   "name": "python3"
  },
  "language_info": {
   "codemirror_mode": {
    "name": "ipython",
    "version": 3
   },
   "file_extension": ".py",
   "mimetype": "text/x-python",
   "name": "python",
   "nbconvert_exporter": "python",
   "pygments_lexer": "ipython3",
   "version": "3.8.8"
  }
 },
 "nbformat": 4,
 "nbformat_minor": 5
}
