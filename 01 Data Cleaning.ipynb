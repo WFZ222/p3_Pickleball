{
 "cells": [
  {
   "cell_type": "code",
   "execution_count": 1,
   "id": "310dc64f",
   "metadata": {},
   "outputs": [],
   "source": [
    "import pandas as pd\n",
    "import numpy as np\n",
    "from nltk.stem import WordNetLemmatizer\n",
    "import re"
   ]
  },
  {
   "cell_type": "code",
   "execution_count": 2,
   "id": "c3c476ed",
   "metadata": {},
   "outputs": [],
   "source": [
    "df_tennis = pd.read_csv('./data/tennis.csv')\n",
    "df_pickleball = pd.read_csv('./data/pickleball.csv')"
   ]
  },
  {
   "cell_type": "code",
   "execution_count": 3,
   "id": "8168a2d3",
   "metadata": {
    "scrolled": true
   },
   "outputs": [
    {
     "data": {
      "text/plain": [
       "Index(['Unnamed: 0', 'subreddit', 'title', 'selftext', 'created_utc'], dtype='object')"
      ]
     },
     "execution_count": 3,
     "metadata": {},
     "output_type": "execute_result"
    }
   ],
   "source": [
    "df_tennis.columns"
   ]
  },
  {
   "cell_type": "code",
   "execution_count": 4,
   "id": "ddbf9274",
   "metadata": {},
   "outputs": [
    {
     "data": {
      "text/plain": [
       "Index(['Unnamed: 0', 'subreddit', 'title', 'selftext', 'created_utc'], dtype='object')"
      ]
     },
     "execution_count": 4,
     "metadata": {},
     "output_type": "execute_result"
    }
   ],
   "source": [
    "df_pickleball.columns"
   ]
  },
  {
   "cell_type": "code",
   "execution_count": 5,
   "id": "12ab7a04",
   "metadata": {},
   "outputs": [],
   "source": [
    "df_tennis.drop(columns='Unnamed: 0', inplace=True)\n",
    "df_pickleball.drop(columns='Unnamed: 0', inplace=True)"
   ]
  },
  {
   "cell_type": "code",
   "execution_count": 6,
   "id": "63a4e39f",
   "metadata": {},
   "outputs": [
    {
     "data": {
      "text/html": [
       "<div>\n",
       "<style scoped>\n",
       "    .dataframe tbody tr th:only-of-type {\n",
       "        vertical-align: middle;\n",
       "    }\n",
       "\n",
       "    .dataframe tbody tr th {\n",
       "        vertical-align: top;\n",
       "    }\n",
       "\n",
       "    .dataframe thead th {\n",
       "        text-align: right;\n",
       "    }\n",
       "</style>\n",
       "<table border=\"1\" class=\"dataframe\">\n",
       "  <thead>\n",
       "    <tr style=\"text-align: right;\">\n",
       "      <th></th>\n",
       "      <th>subreddit</th>\n",
       "      <th>title</th>\n",
       "      <th>selftext</th>\n",
       "      <th>created_utc</th>\n",
       "    </tr>\n",
       "  </thead>\n",
       "  <tbody>\n",
       "    <tr>\n",
       "      <th>0</th>\n",
       "      <td>tennis</td>\n",
       "      <td>Anyone down for a hit in Los Angeles?</td>\n",
       "      <td>Hey, people! I'm a dude in his late twenties g...</td>\n",
       "      <td>1637458418</td>\n",
       "    </tr>\n",
       "    <tr>\n",
       "      <th>1</th>\n",
       "      <td>tennis</td>\n",
       "      <td>Zverev on Peng Shuai?</td>\n",
       "      <td>Any words from Zverev about Peng Shuai? Not su...</td>\n",
       "      <td>1637457638</td>\n",
       "    </tr>\n",
       "    <tr>\n",
       "      <th>2</th>\n",
       "      <td>tennis</td>\n",
       "      <td>Zverev beats Djokovic to set up Medvedev final...</td>\n",
       "      <td>NaN</td>\n",
       "      <td>1637457620</td>\n",
       "    </tr>\n",
       "    <tr>\n",
       "      <th>3</th>\n",
       "      <td>tennis</td>\n",
       "      <td>Peng Shuai: China blocks CNN's signal to preve...</td>\n",
       "      <td>NaN</td>\n",
       "      <td>1637456757</td>\n",
       "    </tr>\n",
       "    <tr>\n",
       "      <th>4</th>\n",
       "      <td>tennis</td>\n",
       "      <td>Peng Shuai situation explained: Chinese state ...</td>\n",
       "      <td>NaN</td>\n",
       "      <td>1637454383</td>\n",
       "    </tr>\n",
       "  </tbody>\n",
       "</table>\n",
       "</div>"
      ],
      "text/plain": [
       "  subreddit                                              title  \\\n",
       "0    tennis              Anyone down for a hit in Los Angeles?   \n",
       "1    tennis                              Zverev on Peng Shuai?   \n",
       "2    tennis  Zverev beats Djokovic to set up Medvedev final...   \n",
       "3    tennis  Peng Shuai: China blocks CNN's signal to preve...   \n",
       "4    tennis  Peng Shuai situation explained: Chinese state ...   \n",
       "\n",
       "                                            selftext  created_utc  \n",
       "0  Hey, people! I'm a dude in his late twenties g...   1637458418  \n",
       "1  Any words from Zverev about Peng Shuai? Not su...   1637457638  \n",
       "2                                                NaN   1637457620  \n",
       "3                                                NaN   1637456757  \n",
       "4                                                NaN   1637454383  "
      ]
     },
     "execution_count": 6,
     "metadata": {},
     "output_type": "execute_result"
    }
   ],
   "source": [
    "df_tennis.head(5)"
   ]
  },
  {
   "cell_type": "code",
   "execution_count": 7,
   "id": "3afe4edc",
   "metadata": {},
   "outputs": [
    {
     "data": {
      "text/html": [
       "<div>\n",
       "<style scoped>\n",
       "    .dataframe tbody tr th:only-of-type {\n",
       "        vertical-align: middle;\n",
       "    }\n",
       "\n",
       "    .dataframe tbody tr th {\n",
       "        vertical-align: top;\n",
       "    }\n",
       "\n",
       "    .dataframe thead th {\n",
       "        text-align: right;\n",
       "    }\n",
       "</style>\n",
       "<table border=\"1\" class=\"dataframe\">\n",
       "  <thead>\n",
       "    <tr style=\"text-align: right;\">\n",
       "      <th></th>\n",
       "      <th>subreddit</th>\n",
       "      <th>title</th>\n",
       "      <th>selftext</th>\n",
       "      <th>created_utc</th>\n",
       "    </tr>\n",
       "  </thead>\n",
       "  <tbody>\n",
       "    <tr>\n",
       "      <th>0</th>\n",
       "      <td>Pickleball</td>\n",
       "      <td>Crazy Rules Question</td>\n",
       "      <td>[removed]</td>\n",
       "      <td>1637457988</td>\n",
       "    </tr>\n",
       "    <tr>\n",
       "      <th>1</th>\n",
       "      <td>Pickleball</td>\n",
       "      <td>43 Court-Tested Pickleball Tips To Win Points ...</td>\n",
       "      <td>NaN</td>\n",
       "      <td>1637445886</td>\n",
       "    </tr>\n",
       "    <tr>\n",
       "      <th>2</th>\n",
       "      <td>Pickleball</td>\n",
       "      <td>Phoenix Pickleball scene</td>\n",
       "      <td>[removed]</td>\n",
       "      <td>1637437159</td>\n",
       "    </tr>\n",
       "    <tr>\n",
       "      <th>3</th>\n",
       "      <td>Pickleball</td>\n",
       "      <td>Phoenix Pickleball</td>\n",
       "      <td>[removed]</td>\n",
       "      <td>1637418798</td>\n",
       "    </tr>\n",
       "    <tr>\n",
       "      <th>4</th>\n",
       "      <td>Pickleball</td>\n",
       "      <td>What's One Thing You Find Most Lacking In The ...</td>\n",
       "      <td>Could be something like high quality reviews, ...</td>\n",
       "      <td>1637354289</td>\n",
       "    </tr>\n",
       "  </tbody>\n",
       "</table>\n",
       "</div>"
      ],
      "text/plain": [
       "    subreddit                                              title  \\\n",
       "0  Pickleball                               Crazy Rules Question   \n",
       "1  Pickleball  43 Court-Tested Pickleball Tips To Win Points ...   \n",
       "2  Pickleball                           Phoenix Pickleball scene   \n",
       "3  Pickleball                                 Phoenix Pickleball   \n",
       "4  Pickleball  What's One Thing You Find Most Lacking In The ...   \n",
       "\n",
       "                                            selftext  created_utc  \n",
       "0                                          [removed]   1637457988  \n",
       "1                                                NaN   1637445886  \n",
       "2                                          [removed]   1637437159  \n",
       "3                                          [removed]   1637418798  \n",
       "4  Could be something like high quality reviews, ...   1637354289  "
      ]
     },
     "execution_count": 7,
     "metadata": {},
     "output_type": "execute_result"
    }
   ],
   "source": [
    "df_pickleball.head(5)"
   ]
  },
  {
   "cell_type": "code",
   "execution_count": 8,
   "id": "594bf9f9",
   "metadata": {},
   "outputs": [
    {
     "data": {
      "text/plain": [
       "0       pickleball\n",
       "1       pickleball\n",
       "2       pickleball\n",
       "3       pickleball\n",
       "4       pickleball\n",
       "           ...    \n",
       "1994    pickleball\n",
       "1995    pickleball\n",
       "1996    pickleball\n",
       "1997    pickleball\n",
       "1998    pickleball\n",
       "Name: subreddit, Length: 1999, dtype: object"
      ]
     },
     "execution_count": 8,
     "metadata": {},
     "output_type": "execute_result"
    }
   ],
   "source": [
    "df_pickleball['subreddit'].replace({'Pickleball': 'pickleball'})"
   ]
  },
  {
   "cell_type": "code",
   "execution_count": 9,
   "id": "e9e106cf",
   "metadata": {},
   "outputs": [],
   "source": [
    "df_pickleball['subreddit'].replace({'Pickleball': 'pickleball'}, inplace=True)"
   ]
  },
  {
   "cell_type": "code",
   "execution_count": 10,
   "id": "d5a1629a",
   "metadata": {},
   "outputs": [
    {
     "data": {
      "text/plain": [
       "(5000, 1999)"
      ]
     },
     "execution_count": 10,
     "metadata": {},
     "output_type": "execute_result"
    }
   ],
   "source": [
    "len(df_tennis), len(df_pickleball)"
   ]
  },
  {
   "cell_type": "code",
   "execution_count": 11,
   "id": "c808d339",
   "metadata": {},
   "outputs": [
    {
     "data": {
      "text/plain": [
       "(4913, 1955)"
      ]
     },
     "execution_count": 11,
     "metadata": {},
     "output_type": "execute_result"
    }
   ],
   "source": [
    "# remove duplicates\n",
    "df_tennis.drop_duplicates(subset='title', inplace=True)\n",
    "df_pickleball.drop_duplicates(subset='title', inplace=True)\n",
    "\n",
    "len(df_tennis), len(df_pickleball)"
   ]
  },
  {
   "cell_type": "code",
   "execution_count": 12,
   "id": "9e1323f5",
   "metadata": {},
   "outputs": [
    {
     "data": {
      "text/html": [
       "<div>\n",
       "<style scoped>\n",
       "    .dataframe tbody tr th:only-of-type {\n",
       "        vertical-align: middle;\n",
       "    }\n",
       "\n",
       "    .dataframe tbody tr th {\n",
       "        vertical-align: top;\n",
       "    }\n",
       "\n",
       "    .dataframe thead th {\n",
       "        text-align: right;\n",
       "    }\n",
       "</style>\n",
       "<table border=\"1\" class=\"dataframe\">\n",
       "  <thead>\n",
       "    <tr style=\"text-align: right;\">\n",
       "      <th></th>\n",
       "      <th>subreddit</th>\n",
       "      <th>title</th>\n",
       "      <th>selftext</th>\n",
       "      <th>created_utc</th>\n",
       "    </tr>\n",
       "  </thead>\n",
       "  <tbody>\n",
       "    <tr>\n",
       "      <th>0</th>\n",
       "      <td>tennis</td>\n",
       "      <td>Anyone down for a hit in Los Angeles?</td>\n",
       "      <td>Hey, people! I'm a dude in his late twenties g...</td>\n",
       "      <td>1637458418</td>\n",
       "    </tr>\n",
       "    <tr>\n",
       "      <th>1</th>\n",
       "      <td>tennis</td>\n",
       "      <td>Zverev on Peng Shuai?</td>\n",
       "      <td>Any words from Zverev about Peng Shuai? Not su...</td>\n",
       "      <td>1637457638</td>\n",
       "    </tr>\n",
       "    <tr>\n",
       "      <th>2</th>\n",
       "      <td>tennis</td>\n",
       "      <td>Zverev beats Djokovic to set up Medvedev final...</td>\n",
       "      <td>NaN</td>\n",
       "      <td>1637457620</td>\n",
       "    </tr>\n",
       "    <tr>\n",
       "      <th>3</th>\n",
       "      <td>tennis</td>\n",
       "      <td>Peng Shuai: China blocks CNN's signal to preve...</td>\n",
       "      <td>NaN</td>\n",
       "      <td>1637456757</td>\n",
       "    </tr>\n",
       "    <tr>\n",
       "      <th>4</th>\n",
       "      <td>tennis</td>\n",
       "      <td>Peng Shuai situation explained: Chinese state ...</td>\n",
       "      <td>NaN</td>\n",
       "      <td>1637454383</td>\n",
       "    </tr>\n",
       "  </tbody>\n",
       "</table>\n",
       "</div>"
      ],
      "text/plain": [
       "  subreddit                                              title  \\\n",
       "0    tennis              Anyone down for a hit in Los Angeles?   \n",
       "1    tennis                              Zverev on Peng Shuai?   \n",
       "2    tennis  Zverev beats Djokovic to set up Medvedev final...   \n",
       "3    tennis  Peng Shuai: China blocks CNN's signal to preve...   \n",
       "4    tennis  Peng Shuai situation explained: Chinese state ...   \n",
       "\n",
       "                                            selftext  created_utc  \n",
       "0  Hey, people! I'm a dude in his late twenties g...   1637458418  \n",
       "1  Any words from Zverev about Peng Shuai? Not su...   1637457638  \n",
       "2                                                NaN   1637457620  \n",
       "3                                                NaN   1637456757  \n",
       "4                                                NaN   1637454383  "
      ]
     },
     "execution_count": 12,
     "metadata": {},
     "output_type": "execute_result"
    }
   ],
   "source": [
    "df_tennis.head()"
   ]
  },
  {
   "cell_type": "code",
   "execution_count": 13,
   "id": "3d45cc55",
   "metadata": {},
   "outputs": [
    {
     "data": {
      "text/html": [
       "<div>\n",
       "<style scoped>\n",
       "    .dataframe tbody tr th:only-of-type {\n",
       "        vertical-align: middle;\n",
       "    }\n",
       "\n",
       "    .dataframe tbody tr th {\n",
       "        vertical-align: top;\n",
       "    }\n",
       "\n",
       "    .dataframe thead th {\n",
       "        text-align: right;\n",
       "    }\n",
       "</style>\n",
       "<table border=\"1\" class=\"dataframe\">\n",
       "  <thead>\n",
       "    <tr style=\"text-align: right;\">\n",
       "      <th></th>\n",
       "      <th>subreddit</th>\n",
       "      <th>title</th>\n",
       "      <th>selftext</th>\n",
       "      <th>created_utc</th>\n",
       "    </tr>\n",
       "  </thead>\n",
       "  <tbody>\n",
       "    <tr>\n",
       "      <th>0</th>\n",
       "      <td>pickleball</td>\n",
       "      <td>Crazy Rules Question</td>\n",
       "      <td>[removed]</td>\n",
       "      <td>1637457988</td>\n",
       "    </tr>\n",
       "    <tr>\n",
       "      <th>1</th>\n",
       "      <td>pickleball</td>\n",
       "      <td>43 Court-Tested Pickleball Tips To Win Points ...</td>\n",
       "      <td>NaN</td>\n",
       "      <td>1637445886</td>\n",
       "    </tr>\n",
       "    <tr>\n",
       "      <th>2</th>\n",
       "      <td>pickleball</td>\n",
       "      <td>Phoenix Pickleball scene</td>\n",
       "      <td>[removed]</td>\n",
       "      <td>1637437159</td>\n",
       "    </tr>\n",
       "    <tr>\n",
       "      <th>3</th>\n",
       "      <td>pickleball</td>\n",
       "      <td>Phoenix Pickleball</td>\n",
       "      <td>[removed]</td>\n",
       "      <td>1637418798</td>\n",
       "    </tr>\n",
       "    <tr>\n",
       "      <th>4</th>\n",
       "      <td>pickleball</td>\n",
       "      <td>What's One Thing You Find Most Lacking In The ...</td>\n",
       "      <td>Could be something like high quality reviews, ...</td>\n",
       "      <td>1637354289</td>\n",
       "    </tr>\n",
       "  </tbody>\n",
       "</table>\n",
       "</div>"
      ],
      "text/plain": [
       "    subreddit                                              title  \\\n",
       "0  pickleball                               Crazy Rules Question   \n",
       "1  pickleball  43 Court-Tested Pickleball Tips To Win Points ...   \n",
       "2  pickleball                           Phoenix Pickleball scene   \n",
       "3  pickleball                                 Phoenix Pickleball   \n",
       "4  pickleball  What's One Thing You Find Most Lacking In The ...   \n",
       "\n",
       "                                            selftext  created_utc  \n",
       "0                                          [removed]   1637457988  \n",
       "1                                                NaN   1637445886  \n",
       "2                                          [removed]   1637437159  \n",
       "3                                          [removed]   1637418798  \n",
       "4  Could be something like high quality reviews, ...   1637354289  "
      ]
     },
     "execution_count": 13,
     "metadata": {},
     "output_type": "execute_result"
    }
   ],
   "source": [
    "df_pickleball.head()"
   ]
  },
  {
   "cell_type": "code",
   "execution_count": 14,
   "id": "3e2e3b1c",
   "metadata": {},
   "outputs": [
    {
     "data": {
      "text/plain": [
       "subreddit         0\n",
       "title             0\n",
       "selftext       2779\n",
       "created_utc       0\n",
       "dtype: int64"
      ]
     },
     "execution_count": 14,
     "metadata": {},
     "output_type": "execute_result"
    }
   ],
   "source": [
    "# Check for nulls\n",
    "df_tennis.isnull().sum()"
   ]
  },
  {
   "cell_type": "code",
   "execution_count": 15,
   "id": "49a750b0",
   "metadata": {
    "scrolled": true
   },
   "outputs": [
    {
     "data": {
      "text/plain": [
       "subreddit        0\n",
       "title            0\n",
       "selftext       774\n",
       "created_utc      0\n",
       "dtype: int64"
      ]
     },
     "execution_count": 15,
     "metadata": {},
     "output_type": "execute_result"
    }
   ],
   "source": [
    "df_pickleball.isnull().sum()"
   ]
  },
  {
   "cell_type": "code",
   "execution_count": 16,
   "id": "121f0f04",
   "metadata": {},
   "outputs": [
    {
     "data": {
      "text/plain": [
       "((82, 4), (18, 4))"
      ]
     },
     "execution_count": 16,
     "metadata": {},
     "output_type": "execute_result"
    }
   ],
   "source": [
    "# [removed] and [deleted] messages\n",
    "df_tennis[df_tennis['selftext'] == '[removed]'].shape, df_tennis[df_tennis['selftext'] == '[deleted]'].shape\n",
    "df_pickleball[df_pickleball['selftext'] == '[removed]'].shape, df_pickleball[df_pickleball['selftext'] == '[deleted]'].shape"
   ]
  },
  {
   "cell_type": "code",
   "execution_count": 17,
   "id": "68a4786b",
   "metadata": {
    "scrolled": true
   },
   "outputs": [
    {
     "data": {
      "text/plain": [
       "((2779, 4), (774, 4))"
      ]
     },
     "execution_count": 17,
     "metadata": {},
     "output_type": "execute_result"
    }
   ],
   "source": [
    "# Since there's selftext with [removed] and [deleted], we'll make null [none]\n",
    "df_tennis['selftext'].fillna('[None]', inplace=True)\n",
    "df_pickleball['selftext'].fillna('[None]', inplace=True)\n",
    "df_tennis[df_tennis['selftext'] == '[None]'].shape, df_pickleball[df_pickleball['selftext'] == '[None]'].shape"
   ]
  },
  {
   "cell_type": "code",
   "execution_count": null,
   "id": "8ce0412b",
   "metadata": {},
   "outputs": [],
   "source": []
  },
  {
   "cell_type": "code",
   "execution_count": 18,
   "id": "a5ca0c69",
   "metadata": {},
   "outputs": [],
   "source": [
    "lemmatizer = WordNetLemmatizer()\n",
    "\n",
    "def clean(text):\n",
    "    words = []\n",
    "    \n",
    "    text = text.lower()\n",
    "    text = re.sub(r'https?:\\/\\/.*\\/\\w*', '', text) # Remove hyperlinks \n",
    "    text = re.sub(r'\\&\\w*;', '', text) # Remove html special entities     \n",
    "    text = re.sub(r'\\s\\s+', ' ', text) # Remove whitespace       \n",
    "\n",
    "    word = text.split()\n",
    "    for i in word: \n",
    "        w = lemmatizer.lemmatize(i)\n",
    "        words.append(w)      \n",
    "\n",
    "    sent = ' '.join(words)\n",
    "    \n",
    "    return sent "
   ]
  },
  {
   "cell_type": "code",
   "execution_count": 19,
   "id": "9adfeac7",
   "metadata": {},
   "outputs": [],
   "source": [
    "df_tennis['title'] = df_tennis['title'].apply(clean)\n",
    "df_pickleball['title'] = df_pickleball['title'].apply(clean)"
   ]
  },
  {
   "cell_type": "code",
   "execution_count": 20,
   "id": "d9381cdc",
   "metadata": {},
   "outputs": [],
   "source": [
    "df_tennis['selftext'] = df_tennis['selftext'].apply(clean)\n",
    "df_pickleball['selftext'] = df_pickleball['selftext'].apply(clean)"
   ]
  },
  {
   "cell_type": "code",
   "execution_count": 21,
   "id": "df9504fc",
   "metadata": {},
   "outputs": [],
   "source": [
    "# save to file\n",
    "df_tennis.to_csv('./data/tennis_cleaned.csv')\n",
    "df_pickleball.to_csv('./data/pickleball_cleaned.csv')"
   ]
  },
  {
   "cell_type": "code",
   "execution_count": null,
   "id": "3754c75a",
   "metadata": {},
   "outputs": [],
   "source": []
  }
 ],
 "metadata": {
  "kernelspec": {
   "display_name": "Python 3",
   "language": "python",
   "name": "python3"
  },
  "language_info": {
   "codemirror_mode": {
    "name": "ipython",
    "version": 3
   },
   "file_extension": ".py",
   "mimetype": "text/x-python",
   "name": "python",
   "nbconvert_exporter": "python",
   "pygments_lexer": "ipython3",
   "version": "3.8.8"
  }
 },
 "nbformat": 4,
 "nbformat_minor": 5
}
